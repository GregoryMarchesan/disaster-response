{
 "metadata": {
  "language_info": {
   "codemirror_mode": {
    "name": "ipython",
    "version": 3
   },
   "file_extension": ".py",
   "mimetype": "text/x-python",
   "name": "python",
   "nbconvert_exporter": "python",
   "pygments_lexer": "ipython3",
   "version": "3.8.2-final"
  },
  "orig_nbformat": 2,
  "kernelspec": {
   "name": "python3",
   "display_name": "Python 3.8.2 64-bit ('venture': conda)",
   "metadata": {
    "interpreter": {
     "hash": "36aba71e7507b7018449e68f5e9266454771fe751f4c18b9627f7b61ab514f84"
    }
   }
  }
 },
 "nbformat": 4,
 "nbformat_minor": 2,
 "cells": [
  {
   "cell_type": "code",
   "execution_count": 40,
   "metadata": {},
   "outputs": [],
   "source": [
    "import numpy as np\n",
    "import pandas as pd\n",
    "import sqlite3\n",
    "import re\n",
    "from tqdm import tqdm"
   ]
  },
  {
   "cell_type": "code",
   "execution_count": 6,
   "metadata": {},
   "outputs": [],
   "source": [
    "messages_filepath, categories_filepath, database_filepath = \"../data/disaster_messages.csv\", \"../data/disaster_categories.csv\", \"../data/DisasterResponse.db\""
   ]
  },
  {
   "cell_type": "code",
   "execution_count": 59,
   "metadata": {},
   "outputs": [],
   "source": [
    "def load_data(messages_filepath, categories_filepath):\n",
    "    \"\"\"\n",
    "    Loads data from the parameters and merge them in a dataframe\n",
    "\n",
    "    Parameters:\n",
    "    messages_filepath (string): filepath to the file containing messages\n",
    "    categories_filepath (string): filepath to the file containing categories\n",
    "\n",
    "    Returns:\n",
    "    df (dataframe): dataframe containing the loaded and merged information\n",
    "    \"\"\"\n",
    "\n",
    "    df_messages = pd.read_csv(messages_filepath)\n",
    "    df_messages.drop('original', inplace=True, axis=1)\n",
    "    df_messages.set_index('id', inplace=True)\n",
    "    \n",
    "    df_categories = pd.read_csv(categories_filepath)\n",
    "    df_categories.set_index('id', inplace=True)\n",
    "\n",
    "    df = pd.concat([df_messages, df_categories], axis=1)\n",
    "\n",
    "    return df\n",
    "\n",
    "def clean_data(df):\n",
    "    \"\"\"\n",
    "    Cleans and transform data from the provided dataframe, transforming the 'categories' column to a multi-column values\n",
    "\n",
    "    Parameters:\n",
    "    df (dataframe): Dataframe containing messages and categories\n",
    "\n",
    "    Returns:\n",
    "    df (dataframe): Dataframe cleaned and transformed\n",
    "    \"\"\"\n",
    "\n",
    "    # split the 'categories' column in multi-columns one-hot encoded\n",
    "    for index, row in tqdm(df.iterrows()):\n",
    "        for col in row['categories'].split(';'):\n",
    "            colname = col.split('-')[0]\n",
    "            value = col.split('-')[1]\n",
    "\n",
    "            df.loc[index, colname] = value\n",
    "\n",
    "    df.drop('categories', axis=1, inplace=True)\n",
    "\n",
    "    df['message'] = df['message'].str.lower()\n",
    "\n",
    "    return df\n",
    "\n",
    "\n",
    "def save_data(df, database_filename):\n",
    "    \"\"\"\n",
    "    Saves the df dataframe into a SQLite database usng the database filename provided\n",
    "\n",
    "    Parameters:\n",
    "    df (dataframe): A dataframe containing the information to be stored in the SQLite database\n",
    "    database_filename (string): The SQLite database filename\n",
    "    \"\"\"\n",
    "    conn = sqlite3.connect(database_filename)\n",
    "    df.to_sql(database_filename, con = conn, if_exists='replace', index=False)"
   ]
  },
  {
   "cell_type": "code",
   "execution_count": 60,
   "metadata": {},
   "outputs": [
    {
     "output_type": "stream",
     "name": "stdout",
     "text": [
      "Saving data...\n",
      "    DATABASE: ../data/DisasterResponse.db\n",
      "Cleaned data saved to database!\n"
     ]
    }
   ],
   "source": [
    "# df = load_data(messages_filepath, categories_filepath)\n",
    "# print('Cleaning data...')\n",
    "\n",
    "# df = clean_data(df)\n",
    "\n",
    "print('Saving data...\\n    DATABASE: {}'.format(database_filepath))\n",
    "save_data(df, database_filepath)\n",
    "\n",
    "print('Cleaned data saved to database!')"
   ]
  },
  {
   "cell_type": "code",
   "execution_count": null,
   "metadata": {},
   "outputs": [],
   "source": [
    "df.head()"
   ]
  }
 ]
}